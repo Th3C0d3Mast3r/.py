{
  "nbformat": 4,
  "nbformat_minor": 0,
  "metadata": {
    "colab": {
      "provenance": [],
      "authorship_tag": "ABX9TyNtPReXpjZZjjh2rNow3317"
    },
    "kernelspec": {
      "name": "python3",
      "display_name": "Python 3"
    },
    "language_info": {
      "name": "python"
    }
  },
  "cells": [
    {
      "cell_type": "markdown",
      "source": [
        "# What is NumPy\n",
        "NumPy (Numerical Python) is a powerful Python library used for numerical and scientific computing. It provides support for large, multi-dimensional arrays and matrices, along with a collection of mathematical functions to operate on these data structures.\n",
        "\n",
        "Key features include:\n",
        "- **Efficient Array Operations**: Enables fast operations on arrays, such as element-wise calculations, broadcasting, and linear algebra functions.\n",
        "- **Integration**: Works seamlessly with other scientific libraries like Pandas, SciPy, and Matplotlib.\n",
        "- **Vectorization**: Allows computations to be written in a concise and efficient way, avoiding slow Python loops.\n",
        "\n",
        "NumPy is essential for handling numerical data in machine learning and data science tasks."
      ],
      "metadata": {
        "id": "ObjqNu-118f-"
      }
    },
    {
      "cell_type": "markdown",
      "source": [
        "**THE FOLLOWING IS A FILE THAT WILL BE TEACHING HOW TO USE NUMPY AND ALL THE THINGS THAT FOLLOW**"
      ],
      "metadata": {
        "id": "BZo_18bE1cgr"
      }
    },
    {
      "cell_type": "code",
      "execution_count": 17,
      "metadata": {
        "id": "2JWGqNnG1Zef"
      },
      "outputs": [],
      "source": [
        "import numpy as np"
      ]
    },
    {
      "cell_type": "code",
      "source": [
        "a=np.array([1,2,3])\n",
        "print(a)\n",
        "\n",
        "# this is where we made an array using numpy\n",
        "\n",
        "# b=np.array([[1,2,3,4,5,6], [3.0, 41.0]])\n",
        "# print(b)\n",
        "# the above line shows error because in numpy, we need it to be of equal mxn\n",
        "\n",
        "\n",
        "b=np.array([[1,2,3], [1.324, 23.453, 1.0]])\n",
        "print(b)\n",
        "\n",
        "# to get the dimensions of the numpy array, we do:-\n",
        "print(\"The Dimensions are:- \",b.ndim)    # its like, <arrayName>.ndim"
      ],
      "metadata": {
        "colab": {
          "base_uri": "https://localhost:8080/"
        },
        "id": "uI8el8VY1rDU",
        "outputId": "d5bf39a2-6934-47d9-deab-37478cf73ca1"
      },
      "execution_count": null,
      "outputs": [
        {
          "output_type": "stream",
          "name": "stdout",
          "text": [
            "[1 2 3]\n",
            "[[ 1.     2.     3.   ]\n",
            " [ 1.324 23.453  1.   ]]\n",
            "The Dimensions are:-  2\n"
          ]
        }
      ]
    },
    {
      "cell_type": "markdown",
      "source": [
        "The SHAPE thing in Numpy"
      ],
      "metadata": {
        "id": "-qBAEADK4OkB"
      }
    },
    {
      "cell_type": "code",
      "source": [
        "# there is one more thing called as Shape of the array\n",
        "print(\"Shape of A:- \", a.shape) # since A is 1D array of 3 columns\n",
        "print(\"Shape of B:- \", b.shape) # since B is 2D array of 2rows, 3columns"
      ],
      "metadata": {
        "colab": {
          "base_uri": "https://localhost:8080/"
        },
        "id": "UhAHa6Ge3xCD",
        "outputId": "eed77800-35df-4897-8190-518d9dfe8f20"
      },
      "execution_count": null,
      "outputs": [
        {
          "output_type": "stream",
          "name": "stdout",
          "text": [
            "Shape of A:-  (3,)\n",
            "Shape of B:-  (2, 3)\n"
          ]
        }
      ]
    },
    {
      "cell_type": "code",
      "source": [
        "# we can even get the Memory that it is taking and other related things\n",
        "print(\"Data Type of array a\", a.dtype)  # we are getting the data-type of array \"a\"\n",
        "\n",
        "'''\n",
        "So, we can use a specific datatype and memory if needed\n",
        "Like, If I know that the array is going to store low valued data\n",
        "I can specif to use less memory.\n",
        "See below:-\n",
        "'''\n",
        "something=np.array([1,2,3,4,5,6,7], dtype='int16')\n",
        "print(something, \" has the data type of \", something.dtype)"
      ],
      "metadata": {
        "colab": {
          "base_uri": "https://localhost:8080/"
        },
        "id": "sjJYa_Pv4NgF",
        "outputId": "c334ea1e-08c4-4953-a971-4e0259b090ff"
      },
      "execution_count": null,
      "outputs": [
        {
          "output_type": "stream",
          "name": "stdout",
          "text": [
            "int64\n",
            "[1 2 3 4 5 6 7]  has the data type of  int16\n"
          ]
        }
      ]
    },
    {
      "cell_type": "markdown",
      "source": [
        "# ACCCESSING/CHANGING SPECIFIC ELEMENTS, ROWS, COLUMNS"
      ],
      "metadata": {
        "id": "tqGcFnWeA2dJ"
      }
    },
    {
      "cell_type": "code",
      "source": [
        "a=np.array([[1,2,3,4,5], [6,7,8,9,10]])\n",
        "print(a)"
      ],
      "metadata": {
        "colab": {
          "base_uri": "https://localhost:8080/"
        },
        "id": "xkwVWP745YGf",
        "outputId": "0f7dc211-7ad9-4b32-8406-9d8f85a5803c"
      },
      "execution_count": null,
      "outputs": [
        {
          "output_type": "stream",
          "name": "stdout",
          "text": [
            "[[ 1  2  3  4  5]\n",
            " [ 6  7  8  9 10]]\n"
          ]
        }
      ]
    },
    {
      "cell_type": "code",
      "source": [
        "# to get a specific element, we do the following:-\n",
        "print(a[1,2]);  # syntax is as:- [row, col]\n",
        "# NOTE:- it is Zero Indexing in Python as well\n",
        "# we start the matrix as:-\n",
        "'''\n",
        "    0 1 2 3 . . .\n",
        "0   x y z e\n",
        "1   a b c d . . .\n",
        "2   .\n",
        "3   .\n",
        "'''\n",
        "\n",
        "# print(a[2,3]) this would throw an error as it is out of bounds"
      ],
      "metadata": {
        "colab": {
          "base_uri": "https://localhost:8080/",
          "height": 53
        },
        "id": "ry3gmyVuCMz1",
        "outputId": "b8cb244c-678a-46cc-c73e-9875cd08203d"
      },
      "execution_count": null,
      "outputs": [
        {
          "output_type": "stream",
          "name": "stdout",
          "text": [
            "8\n"
          ]
        },
        {
          "output_type": "execute_result",
          "data": {
            "text/plain": [
              "'\\n    0 1 2 3 . . . \\n0   x y z e\\n1   a b c d . . . \\n2   .\\n3   .    \\n'"
            ],
            "application/vnd.google.colaboratory.intrinsic+json": {
              "type": "string"
            }
          },
          "metadata": {},
          "execution_count": 21
        }
      ]
    },
    {
      "cell_type": "code",
      "source": [
        "# TO GET A SPECIFIC ROW- WE DO THE FOLLOWING:-\n",
        "\n",
        "print(\"The First row of the matrix is:- \", a[0,])\n",
        "\n",
        "print(\"And the First Column is:- \", a[:,0]) # this is the syntax for column"
      ],
      "metadata": {
        "colab": {
          "base_uri": "https://localhost:8080/"
        },
        "id": "7ZtOu-I4DH8g",
        "outputId": "09d78acf-f807-48e8-aea3-6639232d1d3c"
      },
      "execution_count": null,
      "outputs": [
        {
          "output_type": "stream",
          "name": "stdout",
          "text": [
            "The First row of the matrix is:-  [1 2 3 4 5]\n",
            "And the First Column is:-  [1 6]\n"
          ]
        }
      ]
    },
    {
      "cell_type": "code",
      "source": [
        "# now say, I wanna make the first element of the matrix, say 0,0 to 99, we do:-\n",
        "\n",
        "a[0,0]=99   # TO CHANGE THE 0,0th Index\n",
        "print(a,\"\\n\")\n",
        "\n",
        "# a[0,]=54    # TO MAKE THE WHOLE ROW AS A NUMBER(here, 54)\n",
        "# print(a)"
      ],
      "metadata": {
        "colab": {
          "base_uri": "https://localhost:8080/"
        },
        "id": "nEJUANwCDwH-",
        "outputId": "0e7c4e1b-e91a-4b90-cd46-e5ab727e26ef"
      },
      "execution_count": null,
      "outputs": [
        {
          "output_type": "stream",
          "name": "stdout",
          "text": [
            "[[99 54 54 54 54]\n",
            " [ 6  7  8  9 10]] \n",
            "\n"
          ]
        }
      ]
    },
    {
      "cell_type": "code",
      "source": [
        "# for getting something similar as Substring, we do this:-\n",
        "# <variableName> [startIndex:endIndex:stepSize]\n",
        "\n",
        "a1=np.array([ [1,2,3,4,5,6], [11,12,13,14,15,16]])\n",
        "print(a1)\n",
        "print(a1[1,1:3:1])  # this is as:- [x,y : ind : steps]\n",
        "\n",
        "# where (x,y) is position in the MATRIX\n",
        "#       ind is the index till where it should go linearly\n",
        "#       steps is the number of indexes to jump for printing"
      ],
      "metadata": {
        "colab": {
          "base_uri": "https://localhost:8080/"
        },
        "id": "KBY3JhZXEZ7y",
        "outputId": "bc446f06-83ef-465c-aa8e-e9c33d5c6ee1"
      },
      "execution_count": null,
      "outputs": [
        {
          "output_type": "stream",
          "name": "stdout",
          "text": [
            "[[ 1  2  3  4  5  6]\n",
            " [11 12 13 14 15 16]]\n",
            "[12 13]\n"
          ]
        }
      ]
    },
    {
      "cell_type": "code",
      "source": [
        "# this is an example of a 3D Matrix\n",
        "d=np.array([[[1,2], [3,4]], [[5,6], [7,8]]])\n",
        "print(d)\n",
        "\n",
        "# so, the first thing is indexed zero\n",
        "# within 0, there are two arrays that are of 1,2 and 3,4\n",
        "# they are indexed 0, 1 respectively\n",
        "# And within that, there is 0,1 present\n",
        "\n",
        "print(d[0,1,0]) # this means, we want to access the bigger array 0\n",
        "                # then, we want to access the 2nd sub array, and its 1st one\n",
        "\n",
        "# we can even play around something like this:-\n",
        "print(d[: , 1, :])\n",
        "# this means, (:) -> don't care what number, in short, both/all"
      ],
      "metadata": {
        "colab": {
          "base_uri": "https://localhost:8080/"
        },
        "id": "dDiH1tb2m402",
        "outputId": "4bad8644-bc8b-4e7b-b99d-bbb03566f695"
      },
      "execution_count": null,
      "outputs": [
        {
          "output_type": "stream",
          "name": "stdout",
          "text": [
            "[[[1 2]\n",
            "  [3 4]]\n",
            "\n",
            " [[5 6]\n",
            "  [7 8]]]\n",
            "3\n",
            "[[3 4]\n",
            " [7 8]]\n"
          ]
        }
      ]
    },
    {
      "cell_type": "markdown",
      "source": [
        "# INITIALIZING DIFFERENT TYPES OF ARRAYS"
      ],
      "metadata": {
        "id": "wFdAEv2epizh"
      }
    },
    {
      "cell_type": "code",
      "source": [
        "# To make all zeroes\n",
        "np.zeros((2,3))   # NOTE:- np is not variable, but for numpy instance we gave above"
      ],
      "metadata": {
        "colab": {
          "base_uri": "https://localhost:8080/"
        },
        "id": "YzQYXnAqpnWn",
        "outputId": "c0629383-7ddc-4ee5-d32d-3c07cdded725"
      },
      "execution_count": null,
      "outputs": [
        {
          "output_type": "execute_result",
          "data": {
            "text/plain": [
              "array([[0., 0., 0.],\n",
              "       [0., 0., 0.]])"
            ]
          },
          "metadata": {},
          "execution_count": 11
        }
      ]
    },
    {
      "cell_type": "code",
      "source": [
        "# Making a Unit Matrix\n",
        "print(np.ones((3,3)))\n",
        "\n",
        "# We can even enter out own data type\n",
        "oness=np.ones((3,3), dtype='int8')\n",
        "print(oness, \"which is of DATATYPE \", oness.dtype)"
      ],
      "metadata": {
        "colab": {
          "base_uri": "https://localhost:8080/"
        },
        "id": "Mu6sJUJWqJ-X",
        "outputId": "55f43581-bd22-45dc-8a75-b2eaa2e7b914"
      },
      "execution_count": null,
      "outputs": [
        {
          "output_type": "stream",
          "name": "stdout",
          "text": [
            "[[1. 1. 1.]\n",
            " [1. 1. 1.]\n",
            " [1. 1. 1.]]\n",
            "[[1 1 1]\n",
            " [1 1 1]\n",
            " [1 1 1]] which is of DATATYPE  int8\n"
          ]
        }
      ]
    },
    {
      "cell_type": "code",
      "source": [
        "# We can fill the whole matrix with a REQUIRED NUMBER THAT WE WANT\n",
        "np.full((3,3), 98)"
      ],
      "metadata": {
        "colab": {
          "base_uri": "https://localhost:8080/"
        },
        "id": "QbXvRPR1rOj7",
        "outputId": "1c0e6de1-5677-4051-b122-9984f8b59042"
      },
      "execution_count": null,
      "outputs": [
        {
          "output_type": "execute_result",
          "data": {
            "text/plain": [
              "array([[98, 98, 98],\n",
              "       [98, 98, 98],\n",
              "       [98, 98, 98]])"
            ]
          },
          "metadata": {},
          "execution_count": 16
        }
      ]
    },
    {
      "cell_type": "code",
      "source": [
        "# We can even add some random number in matrix as:-\n",
        "\n",
        "print(np.random.rand(3,5))\n",
        "print(\"\\n\")\n",
        "\n",
        "# we want random integers that are less than 7, in a matrix of 3x3\n",
        "np.random.randint(7, size=(3,3))\n",
        "\n",
        "# There is something like this as well:-\n",
        "print(np.random.randint(1,9, size=(4,2)))"
      ],
      "metadata": {
        "colab": {
          "base_uri": "https://localhost:8080/"
        },
        "id": "y9MObiqZxeYK",
        "outputId": "67d280b6-3d14-4e96-b137-98241e47f1ec"
      },
      "execution_count": 30,
      "outputs": [
        {
          "output_type": "stream",
          "name": "stdout",
          "text": [
            "[[0.41071781 0.77344481 0.83753528 0.17317714 0.05908834]\n",
            " [0.20067499 0.35495135 0.12370757 0.02478193 0.85078352]\n",
            " [0.32841348 0.43074539 0.86118803 0.14892996 0.30779904]]\n",
            "\n",
            "\n",
            "[[4 1]\n",
            " [6 4]\n",
            " [6 4]\n",
            " [3 7]]\n"
          ]
        }
      ]
    },
    {
      "cell_type": "code",
      "source": [
        "# We can even have an identity matrix(diagonal 1) here which goes by the syntax:-\n",
        "np.identity(3, dtype='int8')"
      ],
      "metadata": {
        "colab": {
          "base_uri": "https://localhost:8080/"
        },
        "id": "0fh7sfC_yqPJ",
        "outputId": "8956e38a-d6d0-40a9-d0bc-3d5d477cd0bd"
      },
      "execution_count": 32,
      "outputs": [
        {
          "output_type": "execute_result",
          "data": {
            "text/plain": [
              "array([[1, 0, 0],\n",
              "       [0, 1, 0],\n",
              "       [0, 0, 1]], dtype=int8)"
            ]
          },
          "metadata": {},
          "execution_count": 32
        }
      ]
    },
    {
      "cell_type": "code",
      "source": [
        "# We can even repeat the same pattern in the matrix as follows:-\n",
        "\n",
        "arr=np.array([[1,2,3]])\n",
        "r1=np.repeat(arr, 3, axis=0)\n",
        "\n",
        "print(r1)\n",
        "# so the command bascially says we repeat the array \"arr\"\n",
        "# it is repeated 3 times, and repeat along the 0th axis\n",
        "# that is, repeat the whole 1st array over 3 times in diff rows\n"
      ],
      "metadata": {
        "colab": {
          "base_uri": "https://localhost:8080/"
        },
        "id": "6fw5nxhzzanx",
        "outputId": "d99de6d7-ec41-4b18-c33a-da5eb1a337fe"
      },
      "execution_count": 35,
      "outputs": [
        {
          "output_type": "stream",
          "name": "stdout",
          "text": [
            "[[1 2 3]\n",
            " [1 2 3]\n",
            " [1 2 3]]\n"
          ]
        }
      ]
    },
    {
      "cell_type": "code",
      "source": [
        "# NOW let us try to make an array such that, the outer line is all one\n",
        "# the next inner layer is of all 0s\n",
        "# and then, 9s as the innermost\n",
        "\n",
        "answer=np.ones((5,5), dtype='int16')\n",
        "print(answer)\n",
        "\n",
        "z=np.zeros((3,3))\n",
        "z[1,1]=9\n",
        "print(\"\\n\\n\")\n",
        "answer[1:4 , 1:4]=z\n",
        "print(\"The Output is:-\\n\", answer)"
      ],
      "metadata": {
        "colab": {
          "base_uri": "https://localhost:8080/"
        },
        "id": "xIMPatXO0FOi",
        "outputId": "e4ce279d-9432-4a55-c720-27880a87c542"
      },
      "execution_count": 46,
      "outputs": [
        {
          "output_type": "stream",
          "name": "stdout",
          "text": [
            "[[1 1 1 1 1]\n",
            " [1 1 1 1 1]\n",
            " [1 1 1 1 1]\n",
            " [1 1 1 1 1]\n",
            " [1 1 1 1 1]]\n",
            "\n",
            "\n",
            "\n",
            "The Output is:-\n",
            " [[1 1 1 1 1]\n",
            " [1 0 0 0 1]\n",
            " [1 0 9 0 1]\n",
            " [1 0 0 0 1]\n",
            " [1 1 1 1 1]]\n"
          ]
        }
      ]
    },
    {
      "cell_type": "markdown",
      "source": [
        "\n",
        "\n",
        "> THIS IS REALLY IMPORTANT TO NOTE- When we directly equate 2(or more) Matrices, they are Equated Via  `pass by reference`\n",
        "\n"
      ],
      "metadata": {
        "id": "7EMoqQMQ16qP"
      }
    },
    {
      "cell_type": "code",
      "source": [
        "# Suppose, we do the following:-\n",
        "\n",
        "a=np.identity(4, dtype='int8')\n",
        "print(\"So, Matrix A looks like:-\\n\",a)\n",
        "b=a\n",
        "print(\"And, when we say B=A, B looks like:-\\n\", b)\n",
        "\n",
        "# NOW COMES THE THING. If I want to make the value at position (0,1)=99\n",
        "# See what happens\n",
        "b[(0,1)]=99\n",
        "print(a)\n",
        "print(\"\\n\")\n",
        "print(b)\n",
        "\n",
        "# b thus, did not make any copy of a, but rather, referenced a\n",
        "# so a better way is:-\n",
        "c=a.copy()\n",
        "\n",
        "c[(0,1)]=0\n",
        "print('MAKING c as COPY OF a, WE SEE:-\\n')\n",
        "print(a,\"\\n\",b,\"\\n\",c)"
      ],
      "metadata": {
        "colab": {
          "base_uri": "https://localhost:8080/"
        },
        "id": "Lov7RJNG2Pd5",
        "outputId": "922ab0d1-28f1-4b58-df62-f5235b811a78"
      },
      "execution_count": 56,
      "outputs": [
        {
          "output_type": "stream",
          "name": "stdout",
          "text": [
            "So, Matrix A looks like:-\n",
            " [[1 0 0 0]\n",
            " [0 1 0 0]\n",
            " [0 0 1 0]\n",
            " [0 0 0 1]]\n",
            "And, when we say B=A, B looks like:-\n",
            " [[1 0 0 0]\n",
            " [0 1 0 0]\n",
            " [0 0 1 0]\n",
            " [0 0 0 1]]\n",
            "[[ 1 99  0  0]\n",
            " [ 0  1  0  0]\n",
            " [ 0  0  1  0]\n",
            " [ 0  0  0  1]]\n",
            "\n",
            "\n",
            "[[ 1 99  0  0]\n",
            " [ 0  1  0  0]\n",
            " [ 0  0  1  0]\n",
            " [ 0  0  0  1]]\n",
            "MAKING c as COPY OF a, WE SEE:-\n",
            "\n",
            "[[ 1 99  0  0]\n",
            " [ 0  1  0  0]\n",
            " [ 0  0  1  0]\n",
            " [ 0  0  0  1]] \n",
            " [[ 1 99  0  0]\n",
            " [ 0  1  0  0]\n",
            " [ 0  0  1  0]\n",
            " [ 0  0  0  1]] \n",
            " [[1 0 0 0]\n",
            " [0 1 0 0]\n",
            " [0 0 1 0]\n",
            " [0 0 0 1]]\n"
          ]
        }
      ]
    },
    {
      "cell_type": "markdown",
      "source": [
        "# MATHEMATICS PART"
      ],
      "metadata": {
        "id": "mhZfyx5S43NW"
      }
    },
    {
      "cell_type": "code",
      "source": [
        "# this is the section where we do some Mathematics on Arrays and its members\n",
        "\n",
        "peeps=np.array([1,2,3,4,5])\n",
        "print(peeps)"
      ],
      "metadata": {
        "colab": {
          "base_uri": "https://localhost:8080/"
        },
        "id": "uhYsfkGU47D4",
        "outputId": "10963ab6-ab5b-479e-dafe-cddd45dd3932"
      },
      "execution_count": 57,
      "outputs": [
        {
          "output_type": "stream",
          "name": "stdout",
          "text": [
            "[1 2 3 4 5]\n"
          ]
        }
      ]
    },
    {
      "cell_type": "code",
      "source": [
        "peeps+2   # the logic being, we add each and every element by 2"
      ],
      "metadata": {
        "colab": {
          "base_uri": "https://localhost:8080/"
        },
        "id": "q5uJprd461OT",
        "outputId": "b93b3449-d2d9-4d31-a672-6150c4727d95"
      },
      "execution_count": 58,
      "outputs": [
        {
          "output_type": "execute_result",
          "data": {
            "text/plain": [
              "array([3, 4, 5, 6, 7])"
            ]
          },
          "metadata": {},
          "execution_count": 58
        }
      ]
    },
    {
      "cell_type": "code",
      "source": [
        "peeps*12  # we do not alter 3,4,... but rather original 'peeps'"
      ],
      "metadata": {
        "colab": {
          "base_uri": "https://localhost:8080/"
        },
        "id": "Ja2Xjt2G68E6",
        "outputId": "ad4dcea8-cd73-4f81-e898-d725f8d1ea81"
      },
      "execution_count": 59,
      "outputs": [
        {
          "output_type": "execute_result",
          "data": {
            "text/plain": [
              "array([12, 24, 36, 48, 60])"
            ]
          },
          "metadata": {},
          "execution_count": 59
        }
      ]
    },
    {
      "cell_type": "code",
      "source": [
        "b=np.array([2,3,4,51,7])\n",
        "print(peeps+b)\n",
        "\n",
        "print(b**2)"
      ],
      "metadata": {
        "colab": {
          "base_uri": "https://localhost:8080/"
        },
        "id": "3rDh4qNS7Fqi",
        "outputId": "eff27f1d-a53c-4e17-9e15-65a69dc16269"
      },
      "execution_count": 64,
      "outputs": [
        {
          "output_type": "stream",
          "name": "stdout",
          "text": [
            "[ 3  5  7 55 12]\n",
            "[   4    9   16 2601   49]\n"
          ]
        }
      ]
    },
    {
      "cell_type": "markdown",
      "source": [
        "#### LINEAR ALGEBRA"
      ],
      "metadata": {
        "id": "zGUlyAbB7x7m"
      }
    },
    {
      "cell_type": "code",
      "source": [],
      "metadata": {
        "id": "JpzzzYBM70mu"
      },
      "execution_count": null,
      "outputs": []
    }
  ]
}